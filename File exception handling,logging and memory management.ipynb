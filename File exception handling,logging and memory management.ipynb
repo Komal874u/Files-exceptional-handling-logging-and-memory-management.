{
 "cells": [
  {
   "cell_type": "markdown",
   "id": "6c838fd0-da1b-4ab3-acec-adf10cea71b2",
   "metadata": {},
   "source": [
    "**Theoretical queations**"
   ]
  },
  {
   "cell_type": "markdown",
   "id": "0a85288c-e49c-49e3-ad0f-e9f1b6ab3b7c",
   "metadata": {},
   "source": [
    "# Q.1. What is the difference between interpreted and compiled languages?\n",
    "| Feature                 | Interpreted Language | Compiled Language                        |\n",
    "| ----------------------- | -------------------- | ---------------------------------------- |\n",
    "| **Execution**           | Line by line         | Whole program at once                    |\n",
    "| **Tool Used**           | Interpreter          | Compiler                                 |\n",
    "| **Speed**               | Slower               | Faster                                   |\n",
    "| **Error Checking**      | At runtime           | Before execution                         |\n",
    "| **Platform Dependency** | Platform-independent | Platform-dependent                       |\n",
    "| **Examples**            | Python, JavaScript   | C, C++, Java (compiled to bytecode)      |\n",
    "| **Output**              | No separate file     | Creates a separate `.exe` or binary file |\n"
   ]
  },
  {
   "cell_type": "markdown",
   "id": "da91af58-78ac-459d-9944-3c7e6b435fe0",
   "metadata": {},
   "source": [
    "# Q.2 . What is exception handling in Python?\n",
    "\n",
    "Answer: Exception handling manages errors using try, except, finally, and else blocks to avoid crashing the program.\n",
    "\n",
    "- Example:  \n",
    "try:  \n",
    "x = 1 / 0  \n",
    "except ZeroDivisionError:  \n",
    "print(\"Cannot divide by zero\")"
   ]
  },
  {
   "cell_type": "markdown",
   "id": "3ccfea36-043f-4982-812a-5553260e0434",
   "metadata": {},
   "source": [
    "# Q.3. What is the purpose of the finally block in exception handling?\n",
    "Answer:  \n",
    "- The finally block is used to write code that always runs, no matter if there was an error or not.\n",
    "\n",
    "- It is usually used to clean up resources like:\n",
    "\n",
    "- Closing a file\n",
    "\n",
    "- Closing a database connection\n",
    "\n",
    "- Releasing memory or network resources\n"
   ]
  },
  {
   "cell_type": "markdown",
   "id": "da73caa5-6cd9-4366-b10b-fffb1e305059",
   "metadata": {},
   "source": [
    "# Q.4. What is logging in Python?\n",
    "\n",
    "Answer: Logging records program events or errors to a file or console for debugging.\n",
    "\n",
    "- Example:  \n",
    "import logging  \n",
    "logging.basicConfig(level=logging.INFO)  \n",
    "logging.info(\"This is an info message\")"
   ]
  },
  {
   "cell_type": "markdown",
   "id": "1dc75fc4-c1b3-47ec-889b-35702488b551",
   "metadata": {},
   "source": [
    "# Q.5. What is the significance of the __del__ method in Python?\n",
    "Answer: It is a destructor method that runs when an object is deleted to release resources.\n",
    "\n",
    "- Example:  \n",
    "class Demo:  \n",
    "    def __del__(self):  \n",
    "        print(\"Object is deleted\")  \n",
    "d = Demo()  \n",
    "del d"
   ]
  },
  {
   "cell_type": "markdown",
   "id": "7990540e-a6e8-4674-8573-526fde4d5993",
   "metadata": {},
   "source": [
    "# Q.6. What is the difference between import and from ... import in Python?\n",
    "\n",
    "| Feature           | `import`                               | `from ... import`                   |\n",
    "| ----------------- | -------------------------------------- | ----------------------------------- |\n",
    "| **Usage**         | Imports the whole module               | Imports specific part of module     |\n",
    "| **Syntax**        | `import module_name`                   | `from module_name import item`      |\n",
    "| **How to access** | Use module name + item → `math.sqrt()` | Use item directly → `sqrt()`        |\n",
    "| **Example**       | `import math`                          | `from math import sqrt`             |\n"
   ]
  },
  {
   "cell_type": "markdown",
   "id": "2f38b4eb-5b0c-4692-9b02-cbc4dbfe0d10",
   "metadata": {},
   "source": [
    "# Q.7. How can you handle multiple exceptions in Python?\n",
    "\n",
    "Answer: Use multiple except blocks or a tuple of exceptions.\n",
    "\n",
    "- Example:  \n",
    "try:  \n",
    "x = int(\"abc\")  \n",
    "except (ValueError, TypeError) as e:  \n",
    "print(e)"
   ]
  },
  {
   "cell_type": "markdown",
   "id": "d5808947-c98f-440e-a941-9fac62e56c08",
   "metadata": {},
   "source": [
    "# Q.8. What is the purpose of the with statement when handling files in Python?\n",
    "\n",
    "Answer: It handles file open and close automatically.\n",
    "\n",
    "- Example:  \n",
    "with open(\"file.txt\", \"r\") as f:  \n",
    "    print(f.read())"
   ]
  },
  {
   "cell_type": "markdown",
   "id": "528904c3-0456-449a-947f-5d678657a7bb",
   "metadata": {},
   "source": [
    "# Q.9. What is the difference between multithreading and multiprocessing?\n",
    "ANS:\n",
    "| Feature             | **Multithreading**                                    | **Multiprocessing**                               |\n",
    "| ------------------- | ----------------------------------------------------- | ------------------------------------------------- |\n",
    "| **Definition**      | Runs multiple threads in the same process             | Runs multiple processes (separate memory)         |\n",
    "| **Memory**          | Threads share the same memory                         | Each process has its own memory                   |\n",
    "| **Use case**        | Best for I/O-bound tasks (file, network)              | Best for CPU-bound tasks (heavy calculations)     |\n",
    "| **Speed**           | Faster for tasks needing waiting (like downloads)     | Faster for parallel heavy work                    |\n",
    "| **Example modules** | `threading`                                           | `multiprocessing`                                 |\n",
    "| **Crash impact**    | If one thread crashes, others may get affected        | If one process crashes, others keep running       |\n"
   ]
  },
  {
   "cell_type": "markdown",
   "id": "f8ded2b5-ed29-446a-9a93-f9f89166f938",
   "metadata": {},
   "source": [
    "# Q.10. What are the advantages of using logging in a program?\n",
    "\n",
    "Answer:\n",
    "\n",
    "- Helps in tracking events and debugging.\n",
    "\n",
    "- Provides different levels of logs (debug, info, warning, error, critical).\n",
    "\n",
    "- Logs can be saved in files for future reference.\n",
    "\n",
    "- Better than using print statements in production code."
   ]
  },
  {
   "cell_type": "markdown",
   "id": "02c62d1a-b653-4927-a22c-b232c565ef65",
   "metadata": {},
   "source": [
    "# Q.11. What is memory management in Python?\n",
    "\n",
    "Answer:\n",
    "\n",
    "- Python handles memory automatically using a garbage collector.\n",
    "\n",
    "- It uses reference counting and a cyclic garbage collector to free memory.\n",
    "\n",
    "- Variables and objects are stored in memory and removed when no longer needed."
   ]
  },
  {
   "cell_type": "markdown",
   "id": "d064f2d5-0966-4c28-8245-92f1f641424e",
   "metadata": {},
   "source": [
    "# Q.12. What are the basic steps involved in exception handling in Python?\n",
    "\n",
    "Answer:\n",
    "\n",
    "- try block – put the risky code here.\n",
    "\n",
    "- except block – handle specific exceptions.\n",
    "\n",
    "- else block – runs if no exception occurs.\n",
    "\n",
    "- finally block – runs always, for cleanup."
   ]
  },
  {
   "cell_type": "markdown",
   "id": "1b1b1f1c-d6f9-46ba-a1af-4f98867236cf",
   "metadata": {},
   "source": [
    " # Q.13. Why is memory management important in Python?\n",
    "\n",
    "Answer:\n",
    "\n",
    "- Ensures efficient use of memory.\n",
    "\n",
    "- Prevents memory leaks which can slow down or crash programs.\n",
    "\n",
    "- Allows Python to manage resources automatically."
   ]
  },
  {
   "cell_type": "markdown",
   "id": "6674ef5a-f182-41fe-aa63-d75ca38234c7",
   "metadata": {},
   "source": [
    "# Q.14. What is the role of try and except in exception handling?\n",
    "\n",
    "Answer:  \n",
    "try block contains code that might cause an error.  \n",
    "except block catches and handles that error to prevent crashes.\n",
    "\n",
    "- Example:  \n",
    "try:  \n",
    "    x = 10 / 0  \n",
    "except ZeroDivisionError:  \n",
    "    print(\"Can't divide by zero\")"
   ]
  },
  {
   "cell_type": "markdown",
   "id": "dbc6ec6d-2205-453c-b86a-14b524de2454",
   "metadata": {},
   "source": [
    "# Q.15. How does Python’s garbage collection system work?\n",
    "\n",
    "Answer:\n",
    "\n",
    "- Python uses reference counting to track the number of references to an object.\n",
    "\n",
    "- When the count reaches zero, the object is deleted.\n",
    "\n",
    "- It also uses cyclic garbage collection to detect and remove reference cycles."
   ]
  },
  {
   "cell_type": "markdown",
   "id": "c7aa197f-1e82-42f9-b25e-e94db9da0357",
   "metadata": {},
   "source": [
    "# Q.16. What is the purpose of the else block in exception handling?\n",
    "\n",
    "Answer:\n",
    "\n",
    " It runs only if the try block does not raise an exception.\n",
    "\n",
    "Used to place code that should run only when there is no error.\n",
    "\n",
    "- Example:  \n",
    "try:  \n",
    "    print(\"No error\")  \n",
    "except:  \n",
    "    print(\"Error occurred\")  \n",
    "else:  \n",
    "    print(\"Else block runs\")"
   ]
  },
  {
   "cell_type": "markdown",
   "id": "3d45f40a-9fd8-456e-a0e7-79fa3742c157",
   "metadata": {},
   "source": [
    "# Q.17. What are the common logging levels in Python?\n",
    "\n",
    "Answer:\n",
    "\n",
    "- DEBUG: Detailed information for diagnosing problems.\n",
    "\n",
    "- INFO: General events and program flow.\n",
    "\n",
    "- WARNING: Something unexpected, not an error.\n",
    "\n",
    "- ERROR: Due to a problem, the program can't perform a function.\n",
    "\n",
    "- CRITICAL: Very serious error, program may crash."
   ]
  },
  {
   "cell_type": "markdown",
   "id": "ae4e9df0-c0b2-420d-a829-bc4d53c51567",
   "metadata": {},
   "source": [
    "# Q.18. What is the difference between os.fork() and multiprocessing in Python?\n",
    "\n",
    "Answer:\n",
    "\n",
    "| Feature              | `os.fork()`                           | `multiprocessing` module                            |\n",
    "| -------------------- | ------------------------------------- | --------------------------------------------------- |\n",
    "| **Platform support** | Works only on UNIX/Linux              | Works on Windows, Linux, macOS (cross-platform)     |\n",
    "| **Creates**          | Creates a child process               | Creates a separate process                          |\n",
    "| **Ease of use**      | Low-level and harder to use           | High-level, easier with built-in features           |\n",
    "| **Code readability** | Code can be more complex              | Code is cleaner and simpler                         |\n",
    "| **Common use**       | Rarely used in modern Python programs | Common and preferred for parallel processing        |\n"
   ]
  },
  {
   "cell_type": "markdown",
   "id": "b18868b9-731b-464c-9199-ade62adbe5f0",
   "metadata": {},
   "source": [
    "# Q.19. What is the importance of closing a file in Python?\n",
    "\n",
    "Answer:\n",
    "\n",
    "It frees up system resources.\n",
    "\n",
    "Ensures data is saved properly.\n",
    "\n",
    "Prevents file corruption.\n",
    "\n",
    "- Example:  \n",
    "f = open(\"sample.txt\", \"w\")  \n",
    "f.write(\"Hello\")  \n",
    "f.close()"
   ]
  },
  {
   "cell_type": "markdown",
   "id": "de687c9c-a577-4437-9b36-262088923176",
   "metadata": {},
   "source": [
    "# Q.20. What is the difference between file.read() and file.readline() in Python?\n",
    "ANS:\n",
    "| Feature          | `file.read()`                               | `file.readline()`                      |\n",
    "| ---------------- | ------------------------------------------- | -------------------------------------- |\n",
    "| **Reads**        | Reads entire file content as one string     | Reads only one line at a time          |\n",
    "| **Return type**  | Returns full text                           | Returns a single line (with `\\\\n`)     |\n",
    "| **Used when**    | You want to process the whole file          | You want to read line by line          |\n",
    "| **Memory usage** | Can use more memory for big files           | Saves memory (reads one line)          |\n"
   ]
  },
  {
   "cell_type": "markdown",
   "id": "e31ba181-3496-4aff-8aba-325ae0220611",
   "metadata": {},
   "source": [
    "# Q.21. What is the logging module in Python used for?\n",
    "\n",
    "Answer:\n",
    "\n",
    "- It is used to record messages about program execution.\n",
    "\n",
    "- Helps in debugging, monitoring, and maintaining code.\n",
    "\n",
    "- Messages can be saved to a file or printed to console."
   ]
  },
  {
   "cell_type": "markdown",
   "id": "7314de22-16f0-472f-beae-a9e6d680b099",
   "metadata": {},
   "source": [
    "# Q.22. What is the os module in Python used for in file handling?\n",
    "\n",
    "Answer:  \n",
    "The os module allows interaction with the operating system.  \n",
    "It helps in file handling like creating, deleting, renaming files/directories.\n",
    "\n",
    "- Example:  \n",
    "import os  \n",
    "os.mkdir(\"new_folder\")  \n",
    "os.rename(\"old.txt\", \"new.txt\")"
   ]
  },
  {
   "cell_type": "markdown",
   "id": "0d355437-c7a1-40df-8ce7-6f27697389bd",
   "metadata": {},
   "source": [
    "# Q.23. What are the challenges associated with memory management in Python?\n",
    "\n",
    "Answer:\n",
    "\n",
    "- Circular references where objects refer to each other.\n",
    "\n",
    "- Memory leaks due to poor coding.\n",
    "\n",
    "- Inefficient use of memory in large programs."
   ]
  },
  {
   "cell_type": "markdown",
   "id": "6a0e4443-bd40-41e3-99b7-5f419cb5a8af",
   "metadata": {},
   "source": [
    "# Q.24. How do you raise an exception manually in Python?\n",
    "\n",
    "Answer:  \n",
    "Use the raise keyword with an exception class.\n",
    "\n",
    "- Example:  \n",
    "raise ValueError(\"Invalid input\")"
   ]
  },
  {
   "cell_type": "markdown",
   "id": "fd265b3e-6801-4ca8-be81-50ef59162506",
   "metadata": {},
   "source": [
    "# Q.25. Why is it important to use multithreading in certain applications?\n",
    "\n",
    "\n",
    "Answer:\n",
    "\n",
    "Multithreading improves performance in programs that do multiple I/O tasks.\n",
    "\n",
    "Helps keep the application responsive.\n",
    "\n",
    "Useful for downloading files, network requests, and GUIs.\n",
    "\n",
    "- Example:  \n",
    "import threading  \n",
    "def task():  \n",
    "    print(\"Task running\")  \n",
    "    thread = threading.Thread(target=task)  \n",
    "    thread.start()"
   ]
  },
  {
   "cell_type": "markdown",
   "id": "8d0b2b8c-3b96-481d-b703-2477b0344185",
   "metadata": {},
   "source": [
    "**Practical queations**"
   ]
  },
  {
   "cell_type": "code",
   "execution_count": 3,
   "id": "caeff516-7e34-416b-ab75-b6ad8bfde694",
   "metadata": {},
   "outputs": [
    {
     "name": "stdout",
     "output_type": "stream",
     "text": [
      "Hello, this is Komal!\n",
      "\n"
     ]
    }
   ],
   "source": [
    "# Q1. How can you Open a file for writing in python  and write a string to it.\n",
    "txt = \"Hello, this is Komal!\\n\"\n",
    "with open(\"myfile.txt\", \"w\") as file:\n",
    "    file.write(txt)\n",
    "\n",
    "# Read and show content\n",
    "with open(\"myfile.txt\", \"r\") as file:\n",
    "    print(file.read())\n"
   ]
  },
  {
   "cell_type": "code",
   "execution_count": 9,
   "id": "88b38457-29e3-4684-8ca4-eca3d628dfc0",
   "metadata": {},
   "outputs": [
    {
     "name": "stdout",
     "output_type": "stream",
     "text": [
      "Hello, this is Komal!\n",
      "\n"
     ]
    }
   ],
   "source": [
    "# Q.2 Write a python code to print the file and Read file the  each line\n",
    "with open(\"myfile.txt\", \"r\") as file:\n",
    "    for line in file:\n",
    "        print(line)"
   ]
  },
  {
   "cell_type": "code",
   "execution_count": 11,
   "id": "e35e3569-c70a-4380-8b19-da3b63ad2109",
   "metadata": {},
   "outputs": [
    {
     "name": "stdout",
     "output_type": "stream",
     "text": [
      "File not found!\n"
     ]
    }
   ],
   "source": [
    "# Q.3  How you Handle a case where  file does not exists while it trying to open it for reading.\n",
    "try:\n",
    "    with open(\"nofile.txt\", \"r\") as file:\n",
    "        print(file.read())\n",
    "except FileNotFoundError:\n",
    "    print(\"File not found!\")"
   ]
  },
  {
   "cell_type": "code",
   "execution_count": 27,
   "id": "ef3ed69c-70d9-41dc-9918-6510a9292fff",
   "metadata": {},
   "outputs": [
    {
     "name": "stdout",
     "output_type": "stream",
     "text": [
      "Hello! This is content from source file.\n",
      "\n"
     ]
    }
   ],
   "source": [
    "# Q4. write a python scripts that Read from one file and write it's from another file.\n",
    "# Create the source file\n",
    "with open(\"source.txt\", \"w\") as f:\n",
    "    f.write(\"Hello! This is content from source file.\\n\")\n",
    "\n",
    "# Q4: Copy from source to target\n",
    "with open(\"source.txt\", \"r\") as src, open(\"target.txt\", \"w\") as tgt:\n",
    "    tgt.write(src.read())\n",
    "\n",
    "# Show output\n",
    "with open(\"target.txt\", \"r\") as file:\n",
    "    print(file.read())\n"
   ]
  },
  {
   "cell_type": "code",
   "execution_count": 29,
   "id": "b1a47d27-b8e2-48e8-a38b-c7c5a09f07c8",
   "metadata": {},
   "outputs": [
    {
     "name": "stdout",
     "output_type": "stream",
     "text": [
      "Cannot divide by zero!\n"
     ]
    }
   ],
   "source": [
    "# Q5. How you catch and hadle division by zero error in python\n",
    "try:\n",
    "    a = 10 / 0\n",
    "except ZeroDivisionError:\n",
    "    print(\"Cannot divide by zero!\")\n"
   ]
  },
  {
   "cell_type": "code",
   "execution_count": 33,
   "id": "02a62e31-c182-453a-a1ed-d67cb809aac3",
   "metadata": {},
   "outputs": [
    {
     "name": "stdout",
     "output_type": "stream",
     "text": [
      "ERROR:root:Division error: division by zero\n",
      "ERROR:root:Division error: division by zero\n",
      "\n"
     ]
    }
   ],
   "source": [
    "# Q6. Write a python program that log an error msg to a log file when division by zero exception occurance.\n",
    "import logging\n",
    "logging.basicConfig(filename=\"error.log\", level=logging.ERROR)\n",
    "try:\n",
    "    b = 5 / 0\n",
    "except ZeroDivisionError as e:\n",
    "    logging.error(\"Division error: %s\", e)\n",
    "\n",
    "#  Show the log file output\n",
    "with open(\"error.log\", \"r\") as file:\n",
    "    print(file.read())"
   ]
  },
  {
   "cell_type": "code",
   "execution_count": 37,
   "id": "e9302e1f-fb52-4f52-bdf8-50b5890f94e0",
   "metadata": {},
   "outputs": [
    {
     "name": "stderr",
     "output_type": "stream",
     "text": [
      "INFO:root:This is an info message\n",
      "WARNING:root:This is a warning message\n",
      "ERROR:root:This is an error message\n"
     ]
    }
   ],
   "source": [
    "# Q.7 How do you Log information (info,warning,error) in python using the python module\n",
    "import logging\n",
    "\n",
    "# Set the logging level\n",
    "logging.basicConfig(level=logging.INFO)\n",
    "\n",
    "# Log messages\n",
    "logging.info(\"This is an info message\")       # Normal info\n",
    "logging.warning(\"This is a warning message\")   # Something suspicious\n",
    "logging.error(\"This is an error message\")      # Something went wrong\n"
   ]
  },
  {
   "cell_type": "code",
   "execution_count": 39,
   "id": "0ba26e2e-8f21-4be3-8003-837dd60055db",
   "metadata": {},
   "outputs": [
    {
     "name": "stdout",
     "output_type": "stream",
     "text": [
      "File missing!\n"
     ]
    }
   ],
   "source": [
    "# Q8. Write a python programme to hadle a File opening  error with exception handling\n",
    "try:\n",
    "    file = open(\"nofile.txt\", \"r\")\n",
    "except FileNotFoundError:\n",
    "    print(\"File missing!\")"
   ]
  },
  {
   "cell_type": "code",
   "execution_count": 41,
   "id": "ee23bc36-16cc-49e4-94d2-4cb75551e0d1",
   "metadata": {},
   "outputs": [
    {
     "name": "stdout",
     "output_type": "stream",
     "text": [
      "['Hello, this is Komal!\\n', 'New data\\n']\n"
     ]
    }
   ],
   "source": [
    "# Q9. How you can read a file line by line and stores ite contents in a list in python.\n",
    "with open(\"myfile.txt\", \"r\") as f:\n",
    "    lines = f.readlines()\n",
    "    print(lines)\n"
   ]
  },
  {
   "cell_type": "code",
   "execution_count": 49,
   "id": "200a619f-b9f2-4c4e-8183-472f0789fb6b",
   "metadata": {},
   "outputs": [
    {
     "name": "stdout",
     "output_type": "stream",
     "text": [
      "Updated File Content:\n",
      "Hello, this is Komal!\n",
      "New data\n",
      "New data\n",
      "New data\n",
      "\n",
      "2025-07-04\n",
      "2025-07-04\n",
      "2025-07-04\n"
     ]
    }
   ],
   "source": [
    "# Q10. How you can append a date to existing file in python.\n",
    "\n",
    "from datetime import datetime\n",
    "\n",
    "# Step 1: Get current date\n",
    "today = datetime.now().strftime(\"%Y-%m-%d\")\n",
    "\n",
    "# Step 2: Open file in append mode and add date\n",
    "with open(\"myfile.txt\", \"a\") as file:\n",
    "    file.write(\"\\n\" + today)\n",
    "\n",
    "# Step 3: Read and print the updated file content\n",
    "with open(\"myfile.txt\", \"r\") as file:\n",
    "    content = file.read()\n",
    "    print(\"Updated File Content:\")\n",
    "    print(content)\n"
   ]
  },
  {
   "cell_type": "code",
   "execution_count": 1,
   "id": "5fce2581-03b7-4ab6-adff-628824faadc0",
   "metadata": {},
   "outputs": [
    {
     "name": "stdout",
     "output_type": "stream",
     "text": [
      "Key missing\n"
     ]
    }
   ],
   "source": [
    "# Q.11 Write a python program that uses a Try-except bloack to hadle an error when attepting to access a dictionary key that does not exists\n",
    "data = {\"name\": \"Komal\"}\n",
    "try:\n",
    "    print(data[\"age\"])\n",
    "except KeyError:\n",
    "    print(\"Key missing\")"
   ]
  },
  {
   "cell_type": "code",
   "execution_count": 3,
   "id": "3b4a2137-57a1-4d9d-91f9-ac3c88ff3261",
   "metadata": {},
   "outputs": [
    {
     "name": "stdout",
     "output_type": "stream",
     "text": [
      "Value error\n"
     ]
    }
   ],
   "source": [
    "# Q12. Write a program that demostartes using Multiple except blocks to handle a different types of exceptions.\n",
    "try:\n",
    "    a = int(\"abc\")\n",
    "    b = 5 / 0\n",
    "except ValueError:\n",
    "    print(\"Value error\")\n",
    "except ZeroDivisionError:\n",
    "    print(\"Zero division error\")\n"
   ]
  },
  {
   "cell_type": "code",
   "execution_count": 5,
   "id": "93b52f54-c9c8-48fc-85f8-9c24e79262b2",
   "metadata": {},
   "outputs": [
    {
     "name": "stdout",
     "output_type": "stream",
     "text": [
      "Hello, this is Komal!\n",
      "New data\n",
      "New data\n",
      "New data\n",
      "\n"
     ]
    }
   ],
   "source": [
    "# Q13. Hpw would you to check a file exists Check before attempting to read it in python.\n",
    "import os\n",
    "if os.path.exists(\"myfile.txt\"):\n",
    "    with open(\"myfile.txt\", \"r\") as f:\n",
    "        print(f.read())\n",
    "else:\n",
    "    print(\"File not found\")"
   ]
  },
  {
   "cell_type": "code",
   "execution_count": 51,
   "id": "c1e118d2-95a4-472d-af90-b6497e8da508",
   "metadata": {},
   "outputs": [
    {
     "name": "stderr",
     "output_type": "stream",
     "text": [
      "INFO:root:Program started successfully.\n",
      "ERROR:root:An error occurred: Cannot divide by zero.\n",
      "INFO:root:Program completed.\n"
     ]
    }
   ],
   "source": [
    "# Q14. Write a pyhton program that ues the logging module to Log both informational and error massesges.\n",
    "import logging\n",
    "\n",
    "# Set up logging configuration\n",
    "logging.basicConfig(level=logging.DEBUG, format='%(levelname)s: %(message)s')\n",
    "\n",
    "# Log an informational message\n",
    "logging.info(\"Program started successfully.\")\n",
    "\n",
    "# Simulate some work\n",
    "try:\n",
    "    x = 10 / 0  # This will raise ZeroDivisionError\n",
    "except ZeroDivisionError as e:\n",
    "    logging.error(\"An error occurred: Cannot divide by zero.\")\n",
    "\n",
    "# Another info message\n",
    "logging.info(\"Program completed.\")\n"
   ]
  },
  {
   "cell_type": "code",
   "execution_count": 55,
   "id": "6250ca47-d3d8-4be3-a1d0-c2f7193e1bcf",
   "metadata": {},
   "outputs": [
    {
     "name": "stdout",
     "output_type": "stream",
     "text": [
      "Error: File not found.\n"
     ]
    }
   ],
   "source": [
    "# Q15. Write a python program that print the content of the file and Handle the case when file is empty file\n",
    "def print_file_content(filename):\n",
    "    try:\n",
    "        # Open file in read mode\n",
    "        with open(filename, \"r\") as file:\n",
    "            content = file.read()\n",
    "            \n",
    "            # Check if file is empty\n",
    "            if content.strip() == \"\":\n",
    "                print(\"The file is empty.\")\n",
    "            else:\n",
    "                print(\"File Content:\\n\")\n",
    "                print(content)\n",
    "    \n",
    "    except FileNotFoundError:\n",
    "        print(\"Error: File not found.\")\n",
    "\n",
    "# Call the function with a different file name\n",
    "print_file_content(\"data.txt\")\n"
   ]
  },
  {
   "cell_type": "code",
   "execution_count": 71,
   "id": "addf9f50-b1e7-427c-a9b7-3ca7d77d4861",
   "metadata": {},
   "outputs": [
    {
     "name": "stdout",
     "output_type": "stream",
     "text": [
      "Defaulting to user installation because normal site-packages is not writeable\n",
      "Requirement already satisfied: memory-profiler in c:\\users\\komal\\appdata\\roaming\\python\\python312\\site-packages (0.61.0)\n",
      "Requirement already satisfied: psutil in c:\\programdata\\anaconda3\\lib\\site-packages (from memory-profiler) (5.9.0)\n"
     ]
    }
   ],
   "source": [
    "!pip install memory-profiler\n"
   ]
  },
  {
   "cell_type": "code",
   "execution_count": 94,
   "id": "dbfce17e-3d1d-4086-92a6-e11c6506712f",
   "metadata": {},
   "outputs": [
    {
     "name": "stdout",
     "output_type": "stream",
     "text": [
      "Memory used: 33.66796875 MiB\n"
     ]
    }
   ],
   "source": [
    "# Q 16 -Demostarte a how to use  Memory profiling to check the memroy ues of small program.\n",
    "from memory_profiler import memory_usage\n",
    "from time import sleep\n",
    "\n",
    "def create_list():\n",
    "    sleep(1)  # just to slow it down\n",
    "    data = [i for i in range(1000000)]\n",
    "    return data\n",
    "\n",
    "# Measure memory usage of function\n",
    "mem_usage = memory_usage(create_list)\n",
    "\n",
    "print(\"Memory used:\", max(mem_usage) - min(mem_usage), \"MiB\")\n"
   ]
  },
  {
   "cell_type": "code",
   "execution_count": 100,
   "id": "b63a7922-9cd4-4d35-90dd-838c89c2f2d3",
   "metadata": {},
   "outputs": [
    {
     "name": "stdout",
     "output_type": "stream",
     "text": [
      "File Content:\n",
      "10\n",
      "20\n",
      "30\n",
      "40\n",
      "50\n",
      "\n"
     ]
    }
   ],
   "source": [
    "# Q17.Write a python program to create and write a list of numbers to a file, one number per line\n",
    "# Step 1: Create a list\n",
    "numbers = [10, 20, 30, 40, 50]\n",
    "\n",
    "# Step 2: Write to file\n",
    "with open(\"numbers.txt\", \"w\") as file:\n",
    "    for num in numbers:\n",
    "        file.write(str(num) + \"\\n\")\n",
    "\n",
    "# Step 3: Read and print the file content\n",
    "print(\"File Content:\")\n",
    "with open(\"numbers.txt\", \"r\") as file:\n",
    "    print(file.read())\n",
    "\n"
   ]
  },
  {
   "cell_type": "code",
   "execution_count": 9,
   "id": "5002eef3-9c17-4cba-bcce-8e9afe796077",
   "metadata": {
    "scrolled": true
   },
   "outputs": [
    {
     "name": "stderr",
     "output_type": "stream",
     "text": [
      "2025-07-04 13:58:45,120 - Line number: 1\n",
      "2025-07-04 13:58:45,121 - Line number: 2\n",
      "2025-07-04 13:58:45,124 - Line number: 3\n",
      "2025-07-04 13:58:45,125 - Line number: 4\n",
      "2025-07-04 13:58:45,128 - Line number: 5\n",
      "2025-07-04 13:58:45,130 - === Logging will continue... till 1 MB (Rotate after 1 MB) ===\n"
     ]
    }
   ],
   "source": [
    "# Q18. How would you implement a basic logging setup that logs an file with rotation after 1 MB .\n",
    "import logging\n",
    "from logging.handlers import RotatingFileHandler\n",
    "\n",
    "# Logger setup\n",
    "logger = logging.getLogger(\"SimpleLogger\")\n",
    "logger.setLevel(logging.INFO)\n",
    "\n",
    "# Clear previous handlers (important)\n",
    "logger.handlers.clear()\n",
    "\n",
    "# Rotating file handler\n",
    "file_handler = RotatingFileHandler(\"my_log.log\", maxBytes=1*1024*1024, backupCount=2)\n",
    "formatter = logging.Formatter('%(asctime)s - %(message)s')\n",
    "file_handler.setFormatter(formatter)\n",
    "\n",
    "# Console handler\n",
    "console_handler = logging.StreamHandler()\n",
    "console_handler.setFormatter(formatter)\n",
    "\n",
    "# Add handlers\n",
    "logger.addHandler(file_handler)\n",
    "logger.addHandler(console_handler)\n",
    "\n",
    "# Print only 5 lines\n",
    "for i in range(1, 6):\n",
    "    logger.info(f\"Line number: {i}\")\n",
    "\n",
    "# Final message\n",
    "logger.info(\"=== Logging will continue... till 1 MB (Rotate after 1 MB) ===\")"
   ]
  },
  {
   "cell_type": "code",
   "execution_count": 10,
   "id": "0615d4a3-822a-4869-8213-501711ffffda",
   "metadata": {},
   "outputs": [
    {
     "name": "stdout",
     "output_type": "stream",
     "text": [
      "Output: list index out of range\n",
      "Output: 'city'\n"
     ]
    }
   ],
   "source": [
    "# Q19. Write a python program that Handle both IndexError and KeyError using a try-except block.\n",
    "\n",
    "my_list = [10, 20, 30]\n",
    "my_dict = {\"name\": \"Komal\", \"age\": 21}\n",
    "\n",
    "try:\n",
    "    print(\"List value:\", my_list[5])  # This will cause IndexError\n",
    "except IndexError as e:\n",
    "    print(\"Output:\", e)\n",
    "\n",
    "try:\n",
    "    print(\"Dict value:\", my_dict[\"city\"])  # This will cause KeyError\n",
    "except KeyError as e:\n",
    "    print(\"Output:\", e)\n"
   ]
  },
  {
   "cell_type": "code",
   "execution_count": 21,
   "id": "18aa4615-cea5-4d80-b4e2-faabc2bf151a",
   "metadata": {},
   "outputs": [
    {
     "name": "stdout",
     "output_type": "stream",
     "text": [
      "Hello, this is Komal!\n",
      "New data\n",
      "New data\n",
      "New data\n",
      "\n"
     ]
    }
   ],
   "source": [
    "\n",
    "# Q20. How would you open s file and read its content Using a  context manager in python.\n",
    "with open(\"myfile.txt\", \"r\") as f:\n",
    "    print(f.read())"
   ]
  },
  {
   "cell_type": "code",
   "execution_count": 25,
   "id": "f49a22f9-731f-4142-832b-055f4fa7fa21",
   "metadata": {},
   "outputs": [
    {
     "name": "stdout",
     "output_type": "stream",
     "text": [
      "Komal found 1 times\n"
     ]
    }
   ],
   "source": [
    "# Q21. Write a python program that reads a file and print the number of occurance of specific word\n",
    "word = \"Komal\"\n",
    "count = 0\n",
    "with open(\"myfile.txt\", \"r\") as f:\n",
    "    for line in f:\n",
    "        count += line.count(word)\n",
    "print(f\"{word} found {count} times\")\n"
   ]
  },
  {
   "cell_type": "code",
   "execution_count": 12,
   "id": "0d5015c9-6a87-4011-b877-df8843dd57b9",
   "metadata": {},
   "outputs": [
    {
     "name": "stdout",
     "output_type": "stream",
     "text": [
      "File is empty.\n"
     ]
    }
   ],
   "source": [
    "# Q22.How would you  Check if file is empty to before attempting to reads its content.\n",
    "file_path = \"komal_file.txt\"\n",
    "\n",
    "# Step 1: Create the file (empty)\n",
    "with open(file_path, \"w\") as f:\n",
    "    pass  # this keeps the file empty\n",
    "\n",
    "# Step 2: Check if file is empty before reading\n",
    "with open(file_path, \"r\") as f:\n",
    "    content = f.read()\n",
    "    if content == \"\":\n",
    "        print(\"File is empty.\")\n",
    "    else:\n",
    "        print(\"File content:\")\n",
    "        print(content)\n"
   ]
  },
  {
   "cell_type": "code",
   "execution_count": 14,
   "id": "edfae87a-9e8d-46c1-ba14-e3fca8177ec0",
   "metadata": {},
   "outputs": [
    {
     "name": "stdout",
     "output_type": "stream",
     "text": [
      " File not found! Error logged.\n"
     ]
    }
   ],
   "source": [
    "\n",
    "# Q.23 Write a python program that writes a log file  when an error occurs during file handling \n",
    "import logging\n",
    "\n",
    "# Step 1: Set up logging\n",
    "logging.basicConfig(\n",
    "    filename=\"file_error.log\",   # log file name\n",
    "    level=logging.ERROR,         # only log errors\n",
    "    format=\"%(asctime)s - %(levelname)s - %(message)s\"\n",
    ")\n",
    "\n",
    "# Step 2: File handling with error logging\n",
    "try:\n",
    "    with open(\"missing_file.txt\", \"r\") as f:  # this file doesn't exist\n",
    "        content = f.read()\n",
    "        print(content)\n",
    "\n",
    "except FileNotFoundError as e:\n",
    "    logging.error(f\"File not found: {e}\")\n",
    "    print(\" File not found! Error logged.\")\n"
   ]
  }
 ],
 "metadata": {
  "kernelspec": {
   "display_name": "Python [conda env:base] *",
   "language": "python",
   "name": "conda-base-py"
  },
  "language_info": {
   "codemirror_mode": {
    "name": "ipython",
    "version": 3
   },
   "file_extension": ".py",
   "mimetype": "text/x-python",
   "name": "python",
   "nbconvert_exporter": "python",
   "pygments_lexer": "ipython3",
   "version": "3.12.7"
  }
 },
 "nbformat": 4,
 "nbformat_minor": 5
}
